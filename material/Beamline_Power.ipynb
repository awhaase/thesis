{
 "cells": [
  {
   "cell_type": "code",
   "execution_count": 14,
   "metadata": {
    "collapsed": false
   },
   "outputs": [
    {
     "name": "stdout",
     "output_type": "stream",
     "text": [
      "/home/ahaase/pc/Daten/DWBA\n"
     ]
    },
    {
     "name": "stderr",
     "output_type": "stream",
     "text": [
      "/home/ahaase/anaconda2/lib/python2.7/site-packages/matplotlib/__init__.py:878: UserWarning: axes.color_cycle is deprecated and replaced with axes.prop_cycle; please use the latter.\n",
      "  warnings.warn(self.msg_depr % (key, alt_key))\n"
     ]
    }
   ],
   "source": [
    "%cd /home/ahaase/pc/Daten/DWBA\n",
    "from aastylebib import *\n",
    "import reflectivity\n",
    "import helper\n",
    "from numpy import *\n",
    "import matplotlib.gridspec as gridspec"
   ]
  },
  {
   "cell_type": "code",
   "execution_count": 2,
   "metadata": {
    "collapsed": true
   },
   "outputs": [],
   "source": [
    "data_color = \"#A60628\"\n",
    "fit_color = \"#348ABD\"\n",
    "third_color = \"#467821\""
   ]
  },
  {
   "cell_type": "code",
   "execution_count": 28,
   "metadata": {
    "collapsed": false
   },
   "outputs": [
    {
     "name": "stdout",
     "output_type": "stream",
     "text": [
      "/home/ahaase/Dropbox/PTB/Dissertation/thesis/material\n"
     ]
    }
   ],
   "source": [
    "%cd /home/ahaase/Dropbox/PTB/Dissertation/thesis/material"
   ]
  },
  {
   "cell_type": "code",
   "execution_count": 35,
   "metadata": {
    "collapsed": false
   },
   "outputs": [],
   "source": []
  },
  {
   "cell_type": "code",
   "execution_count": 46,
   "metadata": {
    "collapsed": false,
    "scrolled": true
   },
   "outputs": [],
   "source": [
    "with open(\"beamline_power/power_Pt_reflectometry_03KW43.txt\") as fh:\n",
    "    content = fh.read()\n",
    "    data = []\n",
    "    for elem in content.split(\"\\x00\"):\n",
    "        if elem is '-':\n",
    "            continue\n",
    "        data.append(elem.split()[:-1])\n",
    "    beamline_Pt = array(data[2:], dtype=float)"
   ]
  },
  {
   "cell_type": "code",
   "execution_count": 47,
   "metadata": {
    "collapsed": false,
    "scrolled": true
   },
   "outputs": [],
   "source": [
    "with open(\"beamline_power/power_TiO_reflectometry_03KW43.txt\") as fh:\n",
    "    content = fh.read()\n",
    "    data = []\n",
    "    for elem in content.split(\"\\r\\n\"):\n",
    "        if elem is '-':\n",
    "            continue\n",
    "        data.append(elem.split()[:-1])\n",
    "    beamline_TiO = array(data[1:-1], dtype=float)"
   ]
  },
  {
   "cell_type": "code",
   "execution_count": 109,
   "metadata": {
    "collapsed": false
   },
   "outputs": [
    {
     "data": {
      "text/plain": [
       "<matplotlib.text.Text at 0x7fb04c1250d0>"
      ]
     },
     "execution_count": 109,
     "metadata": {},
     "output_type": "execute_result"
    }
   ],
   "source": [
    "fig = plt.figure(figsize=(4.5,2.5))\n",
    "ax = fig.add_subplot(111)\n",
    "ax.loglog(beamline_Pt[:,0], beamline_Pt[:,1],'.', label=\"SX700 Pt premirror\")\n",
    "ax.loglog(beamline_TiO[:,0], beamline_TiO[:,1],'.', label= \"SX700 TiO premirror\")\n",
    "ax.legend(loc=2)\n",
    "ax.set_ylabel(\"radiant power / W mA$^{-1}$\")\n",
    "ax.set_xlabel(\"photon energy / eV\")"
   ]
  },
  {
   "cell_type": "code",
   "execution_count": 110,
   "metadata": {
    "collapsed": false
   },
   "outputs": [],
   "source": [
    "#plt.show()\n",
    "plt.savefig(\"/home/ahaase/Dropbox/PTB/Dissertation/thesis/img/beamline_radiant_power.pdf\")"
   ]
  },
  {
   "cell_type": "code",
   "execution_count": null,
   "metadata": {
    "collapsed": true
   },
   "outputs": [],
   "source": []
  }
 ],
 "metadata": {
  "anaconda-cloud": {},
  "kernelspec": {
   "display_name": "Python [conda root]",
   "language": "python",
   "name": "conda-root-py"
  },
  "language_info": {
   "codemirror_mode": {
    "name": "ipython",
    "version": 2
   },
   "file_extension": ".py",
   "mimetype": "text/x-python",
   "name": "python",
   "nbconvert_exporter": "python",
   "pygments_lexer": "ipython2",
   "version": "2.7.12"
  }
 },
 "nbformat": 4,
 "nbformat_minor": 1
}
