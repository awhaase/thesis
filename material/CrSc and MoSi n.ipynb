{
 "cells": [
  {
   "cell_type": "code",
   "execution_count": 110,
   "metadata": {
    "collapsed": false
   },
   "outputs": [
    {
     "name": "stdout",
     "output_type": "stream",
     "text": [
      "/home/ahaase/pc/Daten/DWBA\n"
     ]
    }
   ],
   "source": [
    "%cd /home/ahaase/pc/Daten/DWBA\n",
    "from aastylebib import *\n",
    "import reflectivity\n",
    "import matplotlib as mpl\n",
    "mpl.rcParams['text.latex.preamble'] = [r'\\usepackage{amsmath}']\n",
    "import helper\n",
    "from numpy import *\n",
    "import matplotlib.gridspec as gridspec"
   ]
  },
  {
   "cell_type": "code",
   "execution_count": 90,
   "metadata": {
    "collapsed": true
   },
   "outputs": [],
   "source": [
    "data_color = \"#A60628\"\n",
    "fit_color = \"#348ABD\"\n",
    "third_color = \"#467821\""
   ]
  },
  {
   "cell_type": "code",
   "execution_count": 91,
   "metadata": {
    "collapsed": false
   },
   "outputs": [
    {
     "name": "stdout",
     "output_type": "stream",
     "text": [
      "/home/ahaase/Dropbox/PTB/Dissertation/thesis/material\n"
     ]
    }
   ],
   "source": [
    "%cd /home/ahaase/Dropbox/PTB/Dissertation/thesis/material"
   ]
  },
  {
   "cell_type": "code",
   "execution_count": 145,
   "metadata": {
    "collapsed": false
   },
   "outputs": [
    {
     "name": "stdout",
     "output_type": "stream",
     "text": [
      "3.16616616617\n"
     ]
    }
   ],
   "source": [
    "wl = linspace(3.0,3.5,1000)\n",
    "sc = helper.HenkeDataPD(\"Sc\",wl)\n",
    "cr = helper.HenkeDataPD(\"Cr\",wl)\n",
    "plt.figure(figsize=fig_golden_ratio(10))\n",
    "plt.plot(wl,1-sc.getDelta(), label=\"$\\\\text{Re}(n_\\\\text{Sc})$\", color=data_color)\n",
    "plt.plot(wl,1-cr.getDelta(), label=\"$\\\\text{Re}(n_\\\\text{Cr})$\", color=fit_color)\n",
    "#plt.fill_between(wl, 1-sc.getDelta(),1-cr.getDelta(), where=(wl>helper.nm2eV(398.7)), color=third_color, alpha=0.2)\n",
    "print wl[argmin(sc.getBeta())]\n",
    "plt.vlines(helper.nm2eV(403.6),0.99,1.01, lw=0.5, linestyle='-', color='gray')\n",
    "plt.vlines(helper.nm2eV(398.7),0.99,1.0125, lw=0.5, linestyle='-', color='gray')\n",
    "plt.text(helper.nm2eV(403.6)+0.005, 1.009, \"L2\")\n",
    "plt.text(helper.nm2eV(398.7)+0.005, 1.0115, \"L3\")\n",
    "plt.xlabel(\"wavelength / nm\")\n",
    "plt.ylabel(\"real part of $n$\")\n",
    "plt.legend()\n",
    "plt.ylim((0.99,1.0165))\n",
    "plt.xlim((3.0,3.50001))\n",
    "plt.twinx()\n",
    "#plt.plot(wl,sc.getBeta(), color=third_color, alpha=0.2, label=\"$\\\\text{Im}(n_\\\\text{Sc})$\")\n",
    "plt.fill_between(wl,sc.getBeta(), color=third_color, alpha=0.2, label=\"$\\\\text{Im}(n_\\\\text{Sc})$\")\n",
    "plt.ylabel(\"imaginary part of $n$\")\n",
    "plt.legend(loc=2)\n",
    "plt.xlim((3.0,3.50001))\n",
    "plt.ylim((0.0,0.0125))\n",
    "\n",
    "#plt.show()\n",
    "plt.savefig(\"/home/ahaase/Dropbox/PTB/Dissertation/thesis/img/Cr_Sc_contrast.pdf\")"
   ]
  },
  {
   "cell_type": "code",
   "execution_count": 146,
   "metadata": {
    "collapsed": false
   },
   "outputs": [
    {
     "name": "stdout",
     "output_type": "stream",
     "text": [
      "12.2\n"
     ]
    }
   ],
   "source": [
    "wl = linspace(12.2,14.0,1000)\n",
    "sc = helper.HenkeDataPD(\"Mo\",wl)\n",
    "cr = helper.HenkeDataPD(\"Si\",wl)\n",
    "plt.figure(figsize=fig_golden_ratio(10))\n",
    "plt.plot(wl,1-sc.getDelta(), label=\"$\\\\text{Re}(n_\\\\text{Mo})$\", color=data_color)\n",
    "plt.plot(wl,1-cr.getDelta(), label=\"$\\\\text{Re}(n_\\\\text{Si})$\", color=fit_color)\n",
    "#plt.fill_between(wl, 1-sc.getDelta(),1-cr.getDelta(), where=(wl>helper.nm2eV(398.7)), color=third_color, alpha=0.2)\n",
    "print wl[argmin(sc.getBeta())]\n",
    "plt.vlines(helper.nm2eV(99.8),0.9,1.05, lw=0.5, linestyle='-', color='gray')\n",
    "#plt.vlines(helper.nm2eV(99.2),0.99,1.0325, lw=0.5, linestyle='-', color='gray')\n",
    "plt.text(helper.nm2eV(99.8)+0.02, 1.04, \"L2\")\n",
    "#plt.text(helper.nm2eV(398.7)+0.005, 1.0115, \"L3\")\n",
    "plt.xlabel(\"wavelength / nm\")\n",
    "plt.ylabel(\"real part of $n$\")\n",
    "plt.legend()\n",
    "plt.ylim((0.9,1.1))\n",
    "plt.xlim((min(wl),max(wl)))\n",
    "plt.twinx()\n",
    "plt.fill_between(wl,cr.getBeta(), color=third_color, alpha=0.2, label=\" $\\\\text{Im}(n_\\\\text{Si})$\")\n",
    "plt.ylabel(\"imaginary part of $n$\")\n",
    "plt.legend(loc=2)\n",
    "plt.ylim((0.0,0.02))\n",
    "plt.xlim((min(wl),max(wl)))\n",
    "\n",
    "#plt.show()\n",
    "plt.savefig(\"/home/ahaase/Dropbox/PTB/Dissertation/thesis/img/Mo_Si_contrast.pdf\")"
   ]
  },
  {
   "cell_type": "code",
   "execution_count": null,
   "metadata": {
    "collapsed": true
   },
   "outputs": [],
   "source": []
  }
 ],
 "metadata": {
  "anaconda-cloud": {},
  "kernelspec": {
   "display_name": "Python [conda root]",
   "language": "python",
   "name": "conda-root-py"
  },
  "language_info": {
   "codemirror_mode": {
    "name": "ipython",
    "version": 2
   },
   "file_extension": ".py",
   "mimetype": "text/x-python",
   "name": "python",
   "nbconvert_exporter": "python",
   "pygments_lexer": "ipython2",
   "version": "2.7.12"
  }
 },
 "nbformat": 4,
 "nbformat_minor": 1
}
