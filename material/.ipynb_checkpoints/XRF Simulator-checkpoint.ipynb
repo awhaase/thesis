{
 "cells": [
  {
   "cell_type": "code",
   "execution_count": 1,
   "metadata": {
    "collapsed": false
   },
   "outputs": [
    {
     "name": "stdout",
     "output_type": "stream",
     "text": [
      "/home/ahaase/pc/Daten/DWBA\n"
     ]
    },
    {
     "name": "stderr",
     "output_type": "stream",
     "text": [
      "/home/ahaase/anaconda2/lib/python2.7/site-packages/matplotlib/__init__.py:878: UserWarning: axes.color_cycle is deprecated and replaced with axes.prop_cycle; please use the latter.\n",
      "  warnings.warn(self.msg_depr % (key, alt_key))\n"
     ]
    }
   ],
   "source": [
    "%cd /home/ahaase/pc/Daten/DWBA\n",
    "from aastylebib import *\n",
    "import reflectivity\n",
    "import helper\n",
    "from numpy import *"
   ]
  },
  {
   "cell_type": "code",
   "execution_count": 2,
   "metadata": {
    "collapsed": true
   },
   "outputs": [],
   "source": [
    "data_color = \"#A60628\"\n",
    "fit_color = \"#348ABD\"\n",
    "third_color = \"#467821\""
   ]
  },
  {
   "cell_type": "code",
   "execution_count": 3,
   "metadata": {
    "collapsed": false
   },
   "outputs": [
    {
     "ename": "KeyboardInterrupt",
     "evalue": "",
     "output_type": "error",
     "traceback": [
      "\u001b[0;31m---------------------------------------------------------------------------\u001b[0m",
      "\u001b[0;31mKeyboardInterrupt\u001b[0m                         Traceback (most recent call last)",
      "\u001b[0;32m<ipython-input-3-5eca664bcdd6>\u001b[0m in \u001b[0;36m<module>\u001b[0;34m()\u001b[0m\n\u001b[1;32m     11\u001b[0m                 \u001b[0mNone\u001b[0m\u001b[0;34m,\u001b[0m \u001b[0;36m0.0\u001b[0m\u001b[0;34m,\u001b[0m\u001b[0;34m\u001b[0m\u001b[0m\n\u001b[1;32m     12\u001b[0m                 \u001b[0;34m\"Si\"\u001b[0m\u001b[0;34m,\u001b[0m \u001b[0;34m[\u001b[0m\u001b[0;36m1.0\u001b[0m\u001b[0;34m,\u001b[0m\u001b[0;36m1.0\u001b[0m\u001b[0;34m]\u001b[0m\u001b[0;34m*\u001b[0m\u001b[0mgrid\u001b[0m\u001b[0;34m*\u001b[0m\u001b[0;36m2\u001b[0m\u001b[0;34m,\u001b[0m\u001b[0;34m\u001b[0m\u001b[0m\n\u001b[0;32m---> 13\u001b[0;31m                       None,0,None,None,None)\n\u001b[0m\u001b[1;32m     14\u001b[0m \u001b[0msc1\u001b[0m \u001b[0;34m=\u001b[0m \u001b[0mnp\u001b[0m\u001b[0;34m.\u001b[0m\u001b[0msum\u001b[0m\u001b[0;34m(\u001b[0m\u001b[0mnp\u001b[0m\u001b[0;34m.\u001b[0m\u001b[0mtranspose\u001b[0m\u001b[0;34m(\u001b[0m\u001b[0;34m(\u001b[0m\u001b[0mnp\u001b[0m\u001b[0;34m.\u001b[0m\u001b[0marray\u001b[0m\u001b[0;34m(\u001b[0m\u001b[0;34m[\u001b[0m\u001b[0mN\u001b[0m\u001b[0;34m*\u001b[0m\u001b[0;34m(\u001b[0m\u001b[0;34m[\u001b[0m\u001b[0;36m1.0\u001b[0m\u001b[0;34m]\u001b[0m\u001b[0;34m*\u001b[0m\u001b[0mgrid\u001b[0m \u001b[0;34m+\u001b[0m \u001b[0;34m[\u001b[0m\u001b[0;36m0.0\u001b[0m\u001b[0;34m]\u001b[0m\u001b[0;34m*\u001b[0m\u001b[0mgrid\u001b[0m\u001b[0;34m)\u001b[0m\u001b[0;34m]\u001b[0m\u001b[0;34m)\u001b[0m\u001b[0;34m)\u001b[0m\u001b[0;34m)\u001b[0m\u001b[0;34m*\u001b[0m\u001b[0mnp\u001b[0m\u001b[0;34m.\u001b[0m\u001b[0marray\u001b[0m\u001b[0;34m(\u001b[0m\u001b[0mz\u001b[0m\u001b[0;34m[\u001b[0m\u001b[0;36m1\u001b[0m\u001b[0;34m:\u001b[0m\u001b[0;34m-\u001b[0m\u001b[0;36m1\u001b[0m\u001b[0;34m,\u001b[0m\u001b[0;34m:\u001b[0m\u001b[0;34m]\u001b[0m\u001b[0;34m)\u001b[0m\u001b[0;34m*\u001b[0m\u001b[0mnp\u001b[0m\u001b[0;34m.\u001b[0m\u001b[0mabs\u001b[0m\u001b[0;34m(\u001b[0m\u001b[0mr\u001b[0m\u001b[0;34m[\u001b[0m\u001b[0;36m1\u001b[0m\u001b[0;34m:\u001b[0m\u001b[0;34m-\u001b[0m\u001b[0;36m1\u001b[0m\u001b[0;34m]\u001b[0m\u001b[0;34m+\u001b[0m\u001b[0mt\u001b[0m\u001b[0;34m[\u001b[0m\u001b[0;36m1\u001b[0m\u001b[0;34m:\u001b[0m\u001b[0;34m-\u001b[0m\u001b[0;36m1\u001b[0m\u001b[0;34m]\u001b[0m\u001b[0;34m)\u001b[0m\u001b[0;34m**\u001b[0m\u001b[0;36m2\u001b[0m\u001b[0;34m,\u001b[0m\u001b[0maxis\u001b[0m\u001b[0;34m=\u001b[0m\u001b[0;36m0\u001b[0m\u001b[0;34m)\u001b[0m\u001b[0;34m\u001b[0m\u001b[0m\n",
      "\u001b[0;32m/home/ahaase/pc/Daten/DWBA/reflectivity.pyc\u001b[0m in \u001b[0;36mfields\u001b[0;34m(AOI, wavelengths, thicknesses, compounds, periods, sigma, roughness, substrate, densities, intermix, mixlayers, capthicknesses, cap, capdensities)\u001b[0m\n\u001b[1;32m    115\u001b[0m \u001b[0;34m\u001b[0m\u001b[0m\n\u001b[1;32m    116\u001b[0m     \u001b[0mkz_AOI\u001b[0m\u001b[0;34m,\u001b[0m \u001b[0mkx_AOI\u001b[0m \u001b[0;34m=\u001b[0m \u001b[0mk_z_generator\u001b[0m\u001b[0;34m(\u001b[0m\u001b[0mnp\u001b[0m\u001b[0;34m.\u001b[0m\u001b[0marray\u001b[0m\u001b[0;34m(\u001b[0m\u001b[0mAOI\u001b[0m\u001b[0;34m)\u001b[0m\u001b[0;34m,\u001b[0m\u001b[0mnp\u001b[0m\u001b[0;34m.\u001b[0m\u001b[0marray\u001b[0m\u001b[0;34m(\u001b[0m\u001b[0mwavelengths\u001b[0m\u001b[0;34m)\u001b[0m\u001b[0;34m,\u001b[0m\u001b[0mn\u001b[0m\u001b[0;34m)\u001b[0m\u001b[0;34m\u001b[0m\u001b[0m\n\u001b[0;32m--> 117\u001b[0;31m     \u001b[0mrefl\u001b[0m\u001b[0;34m,\u001b[0m \u001b[0mtrans\u001b[0m \u001b[0;34m=\u001b[0m \u001b[0mmatrixmethod_xrr\u001b[0m\u001b[0;34m.\u001b[0m\u001b[0mamplitudes\u001b[0m\u001b[0;34m(\u001b[0m\u001b[0mn\u001b[0m\u001b[0;34m,\u001b[0m \u001b[0mnp\u001b[0m\u001b[0;34m.\u001b[0m\u001b[0marray\u001b[0m\u001b[0;34m(\u001b[0m\u001b[0mwavelengths\u001b[0m\u001b[0;34m)\u001b[0m\u001b[0;34m,\u001b[0m \u001b[0mnp\u001b[0m\u001b[0;34m.\u001b[0m\u001b[0marray\u001b[0m\u001b[0;34m(\u001b[0m\u001b[0mkz_AOI\u001b[0m\u001b[0;34m)\u001b[0m\u001b[0;34m,\u001b[0m \u001b[0mt\u001b[0m\u001b[0;34m[\u001b[0m\u001b[0;36m1\u001b[0m\u001b[0;34m:\u001b[0m\u001b[0;34m]\u001b[0m\u001b[0;34m,\u001b[0m \u001b[0mroughness\u001b[0m\u001b[0;34m)\u001b[0m\u001b[0;34m\u001b[0m\u001b[0m\n\u001b[0m\u001b[1;32m    118\u001b[0m     \u001b[0;32mreturn\u001b[0m \u001b[0mrefl\u001b[0m\u001b[0;34m,\u001b[0m \u001b[0mtrans\u001b[0m\u001b[0;34m,\u001b[0m \u001b[0mn\u001b[0m\u001b[0;34m,\u001b[0m \u001b[0mt\u001b[0m\u001b[0;34m\u001b[0m\u001b[0m\n\u001b[1;32m    119\u001b[0m \u001b[0;34m\u001b[0m\u001b[0m\n",
      "\u001b[0;32m/home/ahaase/pc/Daten/DWBA/matrixmethod_xrr.pyc\u001b[0m in \u001b[0;36mamplitudes\u001b[0;34m(n, wavelengths, k_z_1, thickness, sigma)\u001b[0m\n\u001b[1;32m     16\u001b[0m \u001b[0;32mdef\u001b[0m \u001b[0mamplitudes\u001b[0m\u001b[0;34m(\u001b[0m\u001b[0mn\u001b[0m\u001b[0;34m,\u001b[0m\u001b[0mwavelengths\u001b[0m\u001b[0;34m,\u001b[0m\u001b[0mk_z_1\u001b[0m\u001b[0;34m,\u001b[0m\u001b[0mthickness\u001b[0m\u001b[0;34m,\u001b[0m \u001b[0msigma\u001b[0m\u001b[0;34m)\u001b[0m\u001b[0;34m:\u001b[0m\u001b[0;34m\u001b[0m\u001b[0m\n\u001b[1;32m     17\u001b[0m     \u001b[0;32mif\u001b[0m \u001b[0mnumpy\u001b[0m\u001b[0;34m.\u001b[0m\u001b[0misscalar\u001b[0m\u001b[0;34m(\u001b[0m\u001b[0msigma\u001b[0m\u001b[0;34m)\u001b[0m\u001b[0;34m:\u001b[0m\u001b[0;34m\u001b[0m\u001b[0m\n\u001b[0;32m---> 18\u001b[0;31m         \u001b[0;32mreturn\u001b[0m \u001b[0mamplitudes_single_sigma\u001b[0m\u001b[0;34m(\u001b[0m\u001b[0mn\u001b[0m\u001b[0;34m,\u001b[0m\u001b[0mwavelengths\u001b[0m\u001b[0;34m,\u001b[0m\u001b[0mk_z_1\u001b[0m\u001b[0;34m,\u001b[0m\u001b[0mthickness\u001b[0m\u001b[0;34m,\u001b[0m \u001b[0msigma\u001b[0m\u001b[0;34m)\u001b[0m\u001b[0;34m\u001b[0m\u001b[0m\n\u001b[0m\u001b[1;32m     19\u001b[0m     \u001b[0;32melse\u001b[0m\u001b[0;34m:\u001b[0m\u001b[0;34m\u001b[0m\u001b[0m\n\u001b[1;32m     20\u001b[0m         \u001b[0;32mreturn\u001b[0m \u001b[0mamplitudes_multiple_sigma\u001b[0m\u001b[0;34m(\u001b[0m\u001b[0mn\u001b[0m\u001b[0;34m,\u001b[0m\u001b[0mwavelengths\u001b[0m\u001b[0;34m,\u001b[0m\u001b[0mk_z_1\u001b[0m\u001b[0;34m,\u001b[0m\u001b[0mthickness\u001b[0m\u001b[0;34m,\u001b[0m \u001b[0msigma\u001b[0m\u001b[0;34m)\u001b[0m\u001b[0;34m\u001b[0m\u001b[0m\n",
      "\u001b[0;31mKeyboardInterrupt\u001b[0m: "
     ]
    }
   ],
   "source": [
    "grid = 30\n",
    "N=400\n",
    "angles = 90-np.linspace(3.7,3.9,500)\n",
    "cr = 0.8\n",
    "sc = 0.7\n",
    "r, t, n, z = reflectivity.fields(angles,\n",
    "                helper.nm2eV(6250)*ones(500),\n",
    "                [cr/grid]*grid + [sc/grid]*grid,\n",
    "                [\"Cr\"]*grid+[\"Sc\"]*grid,\n",
    "                N,\n",
    "                None, 0.0,\n",
    "                \"Si\", [1.0,1.0]*grid*2,\n",
    "                      None,0,None,None,None)\n",
    "sc1 = np.sum(np.transpose((np.array([N*([1.0]*grid + [0.0]*grid)])))*np.array(z[1:-1,:])*np.abs(r[1:-1]+t[1:-1])**2,axis=0)"
   ]
  },
  {
   "cell_type": "code",
   "execution_count": null,
   "metadata": {
    "collapsed": true
   },
   "outputs": [],
   "source": [
    "import matplotlib.gridspec as gridspec"
   ]
  },
  {
   "cell_type": "code",
   "execution_count": null,
   "metadata": {
    "collapsed": false
   },
   "outputs": [],
   "source": [
    "plt.cla()\n",
    "plt.clf()\n",
    "fig = plt.figure(figsize=(4,5))\n",
    "gs = gridspec.GridSpec(40, 20)\n",
    "gs.update(left=0.1, right=0.9, hspace=0.0, top=0.95, bottom=0.2)\n",
    "ax2 = fig.add_subplot(gs[22:,:18])\n",
    "ax1 = fig.add_subplot(gs[10:20,:18])\n",
    "ax1_1 = fig.add_subplot(gs[:10,:18], sharex=ax1)\n",
    "ax2_cb = fig.add_subplot(gs[22:,18:19])\n",
    "\n",
    "ax1.plot(90-angles,\n",
    "         np.sum(np.transpose((np.array([N*([1.0]*grid + [0.0]*grid)])))*np.array(z[1:-1,:])*np.abs(r[1:-1]+t[1:-1])**2,axis=0)/mean(np.sum(transpose((array([N*([1.0]*grid + [0.0]*grid)])))*array(z[1:-1,:])*np.abs(r[1:-1]+t[1:-1])**2,axis=0)), label='Cr', color=fit_color)\n",
    "ax1.plot(90-angles,np.sum(np.transpose((np.array([N*([0.0]*grid + [1.0]*grid)])))*np.array(z[1:-1,:])*np.abs(r[1:-1]+t[1:-1])**2,axis=0)/mean(np.sum(transpose((array([N*([0.0]*grid + [1.0]*grid)])))*array(z[1:-1,:])*np.abs(r[1:-1]+t[1:-1])**2,axis=0)), label='Sc', color=data_color)\n",
    "ax1.legend()\n",
    "ax1_1.plot(90-angles,abs(r[0])**2, color=third_color)\n",
    "res = (np.abs(r+t)**2)[1:-1,:]\n",
    "im = ax2.imshow(res, aspect='auto', extent=(3.7,3.9,(cr+sc)*N,0), cmap='viridis', origin='upper', clim=(0.0,2.25))\n",
    "cb = plt.colorbar(im, ax=ax2, cax=ax2_cb)\n",
    "cb.set_label('relative Intensity')\n",
    "#ax2_cb.yaxis.set_label_position('left')\n",
    "#ax2_cb.yaxis.set_label_coords(0.8,0.5)\n",
    "ax2.hlines(linspace(0,N*(cr+sc),N),3.7,3.9, color='w', linestyle='-', lw=1)\n",
    "ax2.hlines(linspace(cr,N*(cr+sc)+cr,N),3.7,3.9, color='w', linestyle=':', lw=1)\n",
    "\n",
    "ax1.set_xticklabels([])\n",
    "ax1_1.set_xticklabels([])\n",
    "#ax2.set_xticklabels([])\n",
    "\n",
    "#ax1.set_yticklabels([])\n",
    "#ax1_1.set_yticklabels([])\n",
    "ax1.yaxis.tick_right()\n",
    "ax1.yaxis.set_label_position('right')\n",
    "ax1.yaxis.set_ticks_position('both')\n",
    "#ax2.set_yticks([])\n",
    "\n",
    "ax1.set_xlim((3.77,3.85))\n",
    "ax1.set_ylim((0.4,1.8))\n",
    "ax2.set_xlim((3.77,3.85))\n",
    "ax2.set_ylim((5.0,0.0))\n",
    "\n",
    "ax2.text(3.89, cr/2+cr/10, \"Cr\", color='w', verticalalignment='center', horizontalalignment='left',fontsize=8)\n",
    "ax2.text(3.89, (2*cr+sc)/2+cr/10, \"Sc\", color='w', verticalalignment='center', horizontalalignment='left',fontsize=8)\n",
    "ax2.text(3.89, cr/2+cr/10+(cr+sc), \"Cr\", color='w', verticalalignment='center', horizontalalignment='left',fontsize=8)\n",
    "ax2.text(3.89, (2*cr+sc)/2+cr/10+(cr+sc), \"Sc\", color='w', verticalalignment='center', horizontalalignment='left',fontsize=8)\n",
    "ax2.text(3.89, cr/2+cr/10+2*(cr+sc), \"Cr\", color='w', verticalalignment='center', horizontalalignment='left',fontsize=8)\n",
    "ax2.text(3.89, (2*cr+sc)/2+cr/10+2*(cr+sc), \"Sc\", color='w', verticalalignment='center', horizontalalignment='left',fontsize=8)\n",
    "ax2.text(0.1/4,0.95, \"(c)\", transform = ax2.transAxes, verticalalignment='top', bbox=dict(facecolor='w', alpha=0.7, edgecolor='none', pad=2.0))\n",
    "ax1_1.text(0.1/4,0.9, \"(a)\", transform = ax1_1.transAxes, verticalalignment='top')\n",
    "ax1.text(0.1/4,0.9, \"(b)\", transform = ax1.transAxes, verticalalignment='top')\n",
    "ax2.set_xlabel('grazing angle of incidence $\\\\alpha_i^\\\\text{GI}$ / $^\\circ$')\n",
    "\n",
    "ax1.set_ylabel('relative F.Y.')\n",
    "ax1_1.set_ylabel('reflectivity')\n",
    "ax2.set_ylabel('depth $z$ / nm')\n",
    "\n"
   ]
  },
  {
   "cell_type": "code",
   "execution_count": null,
   "metadata": {
    "collapsed": false
   },
   "outputs": [],
   "source": [
    "mix=0.1\n",
    "sigma = np.array([0.0]+[1.2,0.1]*N+[0.0])\n",
    "sigma = sigma.reshape((len(sigma),1))\n",
    "intermix = np.array([mix,mix]*N+[0.0])\n",
    "r, t, n, z = reflectivity.fields(angles,\n",
    "                helper.nm2eV(6250)*ones(500),\n",
    "                [cr,sc],\n",
    "                [\"Cr\",\"Sc\"],\n",
    "                N,\n",
    "                sigma, 0.0,\n",
    "                \"Si\", [1.0,1.0],\n",
    "                      intermix,30,None,None,None)\n",
    "\n",
    "a=array([0.0]+[1.0,0.0]*400+[0.0])\n",
    "th=array([0.0]+[cr,sc]*400+[0.0])\n",
    "th = th.reshape(len(th),1)\n",
    "a,tha = reflectivity.generate_mixlayers(a, th,intermix, sigma,30)\n",
    "a = a.reshape(len(a),1)\n",
    "\n",
    "cr2 = np.sum(a[1:]*((abs(r[1:]+t[1:])**2)*z[1:]),0)\n",
    "\n",
    "a=array([0.0]+[0.0,1.0]*400+[0.0])\n",
    "th=array([0.0]+[cr,sc]*400+[0.0])\n",
    "th = th.reshape(len(th),1)\n",
    "a,tha = reflectivity.generate_mixlayers(a, th,intermix, sigma,30)\n",
    "a = a.reshape(len(a),1)\n",
    "\n",
    "sc2 = np.sum(a[1:]*((abs(r[1:]+t[1:])**2)*z[1:]),0)\n",
    "\n",
    "ax1.plot(90-angles,\n",
    "         cr2/np.mean(cr2), label='Cr', color=fit_color, linestyle='--')\n",
    "ax1.plot(90-angles,\n",
    "         sc2/np.mean(sc2), label='Sc', color=data_color, linestyle='--')\n",
    "ax1_1.plot(90-angles,abs(r[0])**2, color=third_color, linestyle='--')\n",
    "\n",
    "plt.show()\n",
    "#plt.savefig(\"/home/ahaase/Dropbox/PTB/Dissertation/thesis/img/XRF_scheme.pdf\")"
   ]
  },
  {
   "cell_type": "code",
   "execution_count": null,
   "metadata": {
    "collapsed": true
   },
   "outputs": [],
   "source": []
  },
  {
   "cell_type": "code",
   "execution_count": null,
   "metadata": {
    "collapsed": true
   },
   "outputs": [],
   "source": []
  }
 ],
 "metadata": {
  "anaconda-cloud": {},
  "kernelspec": {
   "display_name": "Python [conda root]",
   "language": "python",
   "name": "conda-root-py"
  },
  "language_info": {
   "codemirror_mode": {
    "name": "ipython",
    "version": 2
   },
   "file_extension": ".py",
   "mimetype": "text/x-python",
   "name": "python",
   "nbconvert_exporter": "python",
   "pygments_lexer": "ipython2",
   "version": "2.7.12"
  }
 },
 "nbformat": 4,
 "nbformat_minor": 1
}
